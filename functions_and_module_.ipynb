{
  "nbformat": 4,
  "nbformat_minor": 0,
  "metadata": {
    "colab": {
      "provenance": [],
      "authorship_tag": "ABX9TyPqnY/ief8HqVw6PYoLoLas",
      "include_colab_link": true
    },
    "kernelspec": {
      "name": "python3",
      "display_name": "Python 3"
    },
    "language_info": {
      "name": "python"
    }
  },
  "cells": [
    {
      "cell_type": "markdown",
      "metadata": {
        "id": "view-in-github",
        "colab_type": "text"
      },
      "source": [
        "<a href=\"https://colab.research.google.com/github/knimje/armstrong-number-between-1-to-10000/blob/main/functions_and_module_.ipynb\" target=\"_parent\"><img src=\"https://colab.research.google.com/assets/colab-badge.svg\" alt=\"Open In Colab\"/></a>"
      ]
    },
    {
      "cell_type": "markdown",
      "source": [],
      "metadata": {
        "id": "a9Fh639-KZC5"
      }
    },
    {
      "cell_type": "code",
      "source": [],
      "metadata": {
        "id": "Fp0Jko76w47V"
      },
      "execution_count": null,
      "outputs": []
    },
    {
      "cell_type": "code",
      "execution_count": null,
      "metadata": {
        "colab": {
          "base_uri": "https://localhost:8080/"
        },
        "id": "Tbqo3iaP5DD5",
        "outputId": "980c328c-92fd-4311-e727-2241c78ca4ac"
      },
      "outputs": [
        {
          "output_type": "stream",
          "name": "stdout",
          "text": [
            "134\n"
          ]
        }
      ],
      "source": [
        "x=45\n",
        "def mul():\n",
        "    y=x+89\n",
        "    print(y)\n",
        "mul()\n"
      ]
    },
    {
      "cell_type": "code",
      "source": [
        "x=\"kritika \"\n",
        "def con():\n",
        "  y = \"nimje\"\n",
        "  print(x + y)\n",
        "con()\n"
      ],
      "metadata": {
        "colab": {
          "base_uri": "https://localhost:8080/"
        },
        "id": "88miHzbz68sd",
        "outputId": "3d6ea524-3799-40b2-ec40-8cbbb3c1f4b1"
      },
      "execution_count": null,
      "outputs": [
        {
          "output_type": "stream",
          "name": "stdout",
          "text": [
            "kritika nimje\n"
          ]
        }
      ]
    },
    {
      "cell_type": "code",
      "source": [
        "x = 5\n",
        "i=1\n",
        "mul=1\n",
        "def multable():\n",
        "   for i in range(1,11):\n",
        "        mul=x*i\n",
        "        print(mul)\n",
        "        i+=1\n",
        "multable()"
      ],
      "metadata": {
        "colab": {
          "base_uri": "https://localhost:8080/"
        },
        "id": "QllGCBbP8MWD",
        "outputId": "685ba9f0-fdaa-4fbf-d9ac-e1c6cda4d31a"
      },
      "execution_count": null,
      "outputs": [
        {
          "output_type": "stream",
          "name": "stdout",
          "text": [
            "5\n",
            "10\n",
            "15\n",
            "20\n",
            "25\n",
            "30\n",
            "35\n",
            "40\n",
            "45\n",
            "50\n"
          ]
        }
      ]
    },
    {
      "cell_type": "code",
      "source": [
        "a= int(input(\"enter the first num:\"))\n",
        "b=int(input(\"enter the next num\"))\n",
        "print(a+b)"
      ],
      "metadata": {
        "colab": {
          "base_uri": "https://localhost:8080/"
        },
        "id": "flf8wpg59J4j",
        "outputId": "0eabab04-ff50-46c8-e177-8a66b9878bbf"
      },
      "execution_count": null,
      "outputs": [
        {
          "output_type": "stream",
          "name": "stdout",
          "text": [
            "enter the first num:7\n",
            "enter the next num3\n",
            "10\n"
          ]
        }
      ]
    },
    {
      "cell_type": "code",
      "source": [
        "x= (input(\"enter the first num:\"))\n",
        "y=(input(\"enter the next num:\"))\n",
        "print(x+y)"
      ],
      "metadata": {
        "colab": {
          "base_uri": "https://localhost:8080/"
        },
        "id": "oFhZWRcDAawC",
        "outputId": "36201c44-da35-4656-bd1a-0949b21d2b2b"
      },
      "execution_count": null,
      "outputs": [
        {
          "output_type": "stream",
          "name": "stdout",
          "text": [
            "enter the first num:5\n",
            "enter the next num:6\n",
            "56\n"
          ]
        }
      ]
    },
    {
      "cell_type": "markdown",
      "source": [
        "yaha maine input main liya hai lekin usse int define nhi kiya hai toh voh concatinate ho raha hai\n"
      ],
      "metadata": {
        "id": "0EUgp5pHAyAq"
      }
    },
    {
      "cell_type": "code",
      "source": [
        "\n",
        "c,d=input(\"enter two numbers:\").split()\n",
        "int(c)+int(d)"
      ],
      "metadata": {
        "colab": {
          "base_uri": "https://localhost:8080/"
        },
        "id": "I_8Eq1WNAhcS",
        "outputId": "a224386b-c224-4a90-c521-053e65bf16f8"
      },
      "execution_count": null,
      "outputs": [
        {
          "name": "stdout",
          "output_type": "stream",
          "text": [
            "enter two numbers:6 7\n"
          ]
        },
        {
          "output_type": "execute_result",
          "data": {
            "text/plain": [
              "13"
            ]
          },
          "metadata": {},
          "execution_count": 24
        }
      ]
    },
    {
      "cell_type": "code",
      "source": [
        "x = int(input(\"enter a number: \"))\n",
        "i=1\n",
        "mul=1\n",
        "def multable():\n",
        "   for i in range(1,11):\n",
        "        mul=x*i\n",
        "        print(mul)\n",
        "        i+=1\n",
        "multable()"
      ],
      "metadata": {
        "colab": {
          "base_uri": "https://localhost:8080/"
        },
        "id": "Qxily7cuBXYx",
        "outputId": "ccb4b12e-de06-44e8-9298-228ab5d4005f"
      },
      "execution_count": null,
      "outputs": [
        {
          "output_type": "stream",
          "name": "stdout",
          "text": [
            "enter a number: 2\n",
            "2\n",
            "4\n",
            "6\n",
            "8\n",
            "10\n",
            "12\n",
            "14\n",
            "16\n",
            "18\n",
            "20\n"
          ]
        }
      ]
    },
    {
      "cell_type": "code",
      "source": [
        "a=0b100\n",
        "b=0o170\n",
        "c=99\n",
        "d=0x10a\n",
        "print(a,b,c,d)\n",
        "print(int(\"322\",4)) #how will 322 be represented in integer literals of base 4\n",
        "print(bin(112))\n",
        "print(bin(c))\n",
        "print(bin(d))\n"
      ],
      "metadata": {
        "colab": {
          "base_uri": "https://localhost:8080/"
        },
        "id": "LPMTxHsAEaYr",
        "outputId": "8e46dd43-ebf3-4c4f-e6ae-c0f7bf546c3f"
      },
      "execution_count": null,
      "outputs": [
        {
          "output_type": "stream",
          "name": "stdout",
          "text": [
            "4 120 99 266\n",
            "58\n",
            "0b1110000\n",
            "0b1100011\n",
            "0b100001010\n"
          ]
        }
      ]
    },
    {
      "cell_type": "code",
      "source": [
        " def conca(name):\n",
        "  print(name + \"you are a fool\")\n",
        "\n",
        "conca(\"kritika \")\n",
        "conca(\"abhishek \")\n",
        "conca(\"Sucheti \")"
      ],
      "metadata": {
        "colab": {
          "base_uri": "https://localhost:8080/"
        },
        "id": "7OB4HoZjHFXw",
        "outputId": "8eb3f490-3131-4800-df6b-10803691772a"
      },
      "execution_count": null,
      "outputs": [
        {
          "output_type": "stream",
          "name": "stdout",
          "text": [
            "kritika you are a fool\n",
            "abhishek you are a fool\n",
            "Sucheti you are a fool\n"
          ]
        }
      ]
    },
    {
      "cell_type": "code",
      "source": [
        "b=0o170\n",
        "print(bin(b))"
      ],
      "metadata": {
        "colab": {
          "base_uri": "https://localhost:8080/"
        },
        "id": "z9giTaSsIeIA",
        "outputId": "77d7e2e2-af29-40a2-e684-719fccb28a8e"
      },
      "execution_count": null,
      "outputs": [
        {
          "output_type": "stream",
          "name": "stdout",
          "text": [
            "0b1111000\n"
          ]
        }
      ]
    },
    {
      "cell_type": "code",
      "source": [
        "def square( num ):\n",
        "    return num**2\n",
        "object_ = square(6)\n",
        "print( \"The square of the given number is: \", object_ )"
      ],
      "metadata": {
        "id": "2l8vp_unIvt_",
        "colab": {
          "base_uri": "https://localhost:8080/"
        },
        "outputId": "252e3053-f67f-42fc-bf46-9b779cb2428b"
      },
      "execution_count": null,
      "outputs": [
        {
          "output_type": "stream",
          "name": "stdout",
          "text": [
            "The square of the given number is:  36\n"
          ]
        }
      ]
    },
    {
      "cell_type": "code",
      "source": [
        "#squaring the numbers in the list using functions\n",
        "def square1(a):                   #parameter mai list input karni hai\n",
        "    evaluate=[]                      #new list is been made\n",
        "    for i in a:\n",
        "        evaluate.append(i**2)           # append the new numbers in the list\n",
        "    return evaluate\n",
        "a=[17,52,8]\n",
        "result=square1(a)\n",
        "print(\"square of the list are : \",result)\n",
        "print(\"square of the list are : \",square1(a))"
      ],
      "metadata": {
        "colab": {
          "base_uri": "https://localhost:8080/"
        },
        "id": "Admg5qjx14-f",
        "outputId": "fda8ebbb-c808-451f-da77-16b195080508"
      },
      "execution_count": null,
      "outputs": [
        {
          "output_type": "stream",
          "name": "stdout",
          "text": [
            "square of the list are :  [289, 2704, 64]\n",
            "square of the list are :  [289, 2704, 64]\n"
          ]
        }
      ]
    },
    {
      "cell_type": "code",
      "source": [
        "# convert the names in the list in upper case\n",
        "def cap(b):\n",
        "    \"\"\"kritika\"\"\"\n",
        "    new_l=[]\n",
        "    for i in b:\n",
        "        new_l.append(i.upper())\n",
        "    return new_l\n",
        "b=[\"kritika\",\"abhishek\",\"sucheti\",\"shreyash\"]\n",
        "print(\"uppercase of list names are : \",cap(b))\n",
        "print(help(cap))"
      ],
      "metadata": {
        "colab": {
          "base_uri": "https://localhost:8080/"
        },
        "id": "TTrM3-Lw4i8_",
        "outputId": "dfaf9896-ac87-480c-a043-bd8ced7f9cf2"
      },
      "execution_count": null,
      "outputs": [
        {
          "output_type": "stream",
          "name": "stdout",
          "text": [
            "uppercase of list names are :  ['KRITIKA', 'ABHISHEK', 'SUCHETI', 'SHREYASH']\n",
            "Help on function cap in module __main__:\n",
            "\n",
            "cap(b)\n",
            "    kritika\n",
            "\n",
            "None\n"
          ]
        }
      ]
    },
    {
      "cell_type": "code",
      "source": [
        "a= int(input())              #int initiallise karna important hai\n",
        "def result(a):          #yaha do arguements important hai\n",
        "    sum=int(0)\n",
        "    while a!=0:\n",
        "        sum=sum+a%10\n",
        "        a=a//10\n",
        "    return sum              #return ke bina nhi hoga\n",
        "print(result(a))"
      ],
      "metadata": {
        "colab": {
          "base_uri": "https://localhost:8080/"
        },
        "id": "7VJaK8xv8yOp",
        "outputId": "66e8d40f-c950-4f78-c2e9-bb63e457fd2c"
      },
      "execution_count": null,
      "outputs": [
        {
          "output_type": "stream",
          "name": "stdout",
          "text": [
            "234\n",
            "9\n"
          ]
        }
      ]
    },
    {
      "cell_type": "code",
      "source": [
        "#write a user define function that prints the count of vowels in the name entered by the user\n",
        "name=input(\"enter your name \")\n",
        "l=[\"a\",\"e\",\"i\",\"o\",\"u\",\"A\",\"E\",\"I\",\"O\",\"U\"]\n",
        "def vowel(name):\n",
        "    count=0\n",
        "    for i in name:\n",
        "        for j in l:\n",
        "            if i ==j:\n",
        "                count+=1\n",
        "                print(i)\n",
        "    print(count)\n",
        "vowel(name)"
      ],
      "metadata": {
        "id": "8Y-W21DIHMZz"
      },
      "execution_count": null,
      "outputs": []
    },
    {
      "cell_type": "code",
      "source": [
        "a=\"kritika\"\n",
        "for i in a:\n",
        "    print(i)"
      ],
      "metadata": {
        "colab": {
          "base_uri": "https://localhost:8080/"
        },
        "id": "7SRcuTJgLWdS",
        "outputId": "03dd562c-8210-415f-abb4-32648d22c2e8"
      },
      "execution_count": null,
      "outputs": [
        {
          "output_type": "stream",
          "name": "stdout",
          "text": [
            "k\n",
            "r\n",
            "i\n",
            "t\n",
            "i\n",
            "k\n",
            "a\n"
          ]
        }
      ]
    },
    {
      "cell_type": "code",
      "source": [
        "def rev(p):\n",
        "    x=0\n",
        "    while p!=0:\n",
        "        x=x*10+p%10\n",
        "        p=p//10\n",
        "    print(x)\n",
        "rev(12345)\n"
      ],
      "metadata": {
        "id": "uxP5ZYuULbho",
        "colab": {
          "base_uri": "https://localhost:8080/"
        },
        "outputId": "67c55736-543c-4111-d71f-f306255c6a6e"
      },
      "execution_count": null,
      "outputs": [
        {
          "output_type": "stream",
          "name": "stdout",
          "text": [
            "54321\n"
          ]
        }
      ]
    },
    {
      "cell_type": "code",
      "source": [],
      "metadata": {
        "colab": {
          "base_uri": "https://localhost:8080/"
        },
        "id": "5E1iP_6DI0p4",
        "outputId": "9ce01b0a-4ee3-4b9c-e834-dec473f3dd41"
      },
      "execution_count": null,
      "outputs": [
        {
          "output_type": "stream",
          "name": "stdout",
          "text": [
            "140702134909360\n"
          ]
        },
        {
          "output_type": "execute_result",
          "data": {
            "text/plain": [
              "140702134909520"
            ]
          },
          "metadata": {},
          "execution_count": 8
        }
      ]
    },
    {
      "cell_type": "code",
      "source": [
        "#create a rock paper scissor with computer\n",
        "import random\n",
        "list=[\"rock\",\"scissor\",\"paper\"]\n",
        "def computer():\n",
        "    player=comp=0\n",
        "    game=0\n",
        "    while game<5:\n",
        "        user=input()\n",
        "        i=random.randint(0,2)\n",
        "        print(\"\\t\\t\",list[i])\n",
        "        if (user==\"rock\" and list[i]==\"scissor\") or (user==\"scissor\" and list[i]==\"paper\") or (user==\"paper\" and list[i]==\"rock\"):\n",
        "            player+=1\n",
        "            comp+=0\n",
        "            print(\"\\t\\t\",player,\"\\t\",comp)\n",
        "        elif (user==\"scissor\" and list[i]==\"rock\") or (user==\"paper\" and list[i]==\"scissor\") or (user==\"rock\" and list[i]==\"paper\"):\n",
        "              player+=0\n",
        "              comp+=1\n",
        "              print(\"\\t\\t\",player,\"\\t\",comp)\n",
        "        else :\n",
        "            player+=0\n",
        "            comp+=0\n",
        "            print(\"\\t\\t\",player,\"\\t\",comp)\n",
        "        game+=1\n",
        "    if player==comp:\n",
        "        print(\"tie\")\n",
        "    elif player>comp:\n",
        "        print(\"You Win\")\n",
        "    else:\n",
        "        print(\"You Lose\")\n",
        "\n",
        "computer()"
      ],
      "metadata": {
        "id": "neAmmo17KZt-",
        "colab": {
          "base_uri": "https://localhost:8080/"
        },
        "outputId": "3a1627e2-aeb8-4679-c7d0-80b7de287ed6"
      },
      "execution_count": null,
      "outputs": [
        {
          "output_type": "stream",
          "name": "stdout",
          "text": [
            "rock\n",
            "\t\t rock\n",
            "\t\t 0 \t 0\n",
            "paper\n",
            "\t\t scissor\n",
            "\t\t 0 \t 1\n",
            "rock\n",
            "\t\t paper\n",
            "\t\t 0 \t 2\n",
            "rock\n",
            "\t\t rock\n",
            "\t\t 0 \t 2\n",
            "scissor\n",
            "\t\t paper\n",
            "\t\t 1 \t 2\n",
            "You Lose\n"
          ]
        }
      ]
    },
    {
      "cell_type": "code",
      "source": [
        "def f(lst,i,ele):\n"
      ],
      "metadata": {
        "id": "Zr2gCXpAqFZN"
      },
      "execution_count": null,
      "outputs": []
    },
    {
      "cell_type": "code",
      "source": [
        "def f():\n",
        "    print(1)\n",
        "    pass\n",
        "print(f())\n",
        "print(\"True\") if f() else print(\"False\")"
      ],
      "metadata": {
        "colab": {
          "base_uri": "https://localhost:8080/"
        },
        "id": "NP7wZGO2K1Hb",
        "outputId": "9ffc9528-f256-4964-f83f-ac4974ee95f4"
      },
      "execution_count": null,
      "outputs": [
        {
          "output_type": "stream",
          "name": "stdout",
          "text": [
            "1\n",
            "None\n",
            "1\n",
            "False\n"
          ]
        }
      ]
    },
    {
      "cell_type": "code",
      "source": [
        "def pow(x,y=2):\n",
        "    return x**y\n",
        "print(f\"the pow(4) is {pow(4)}\")\n",
        "print(f\"the pow(5,3) is {pow(5,3)}\")\n",
        "print(f\"the pow(5) is {pow(5)}\")"
      ],
      "metadata": {
        "colab": {
          "base_uri": "https://localhost:8080/"
        },
        "id": "ILy4IkUvLKn8",
        "outputId": "05707fa4-b9dd-41ed-f417-27fd33fe76d2"
      },
      "execution_count": null,
      "outputs": [
        {
          "output_type": "stream",
          "name": "stdout",
          "text": [
            "the pow(4) is 16\n",
            "the pow(5,3) is 125\n",
            "the pow(5) is 25\n"
          ]
        }
      ]
    },
    {
      "cell_type": "markdown",
      "source": [
        "humne already default parameter de rakha hai issiliye hume one ya two arguements sai bhi use kar sakte\n",
        "default arguement humesha last mai aata hai"
      ],
      "metadata": {
        "id": "Xx9-CMQ4L8sb"
      }
    },
    {
      "cell_type": "code",
      "source": [
        "def spow(x,y=2,z=2):\n",
        "    return (x**y)**z\n",
        "print(f\"the spow(4) is {spow(4)}\")\n",
        "print(f\"the spow(5,3) is {spow(5,3)}\")\n",
        "print(f\"the spow(5,3,3) is {spow(5,3,3)}\")"
      ],
      "metadata": {
        "id": "K0Mi-v2eL7ES",
        "colab": {
          "base_uri": "https://localhost:8080/"
        },
        "outputId": "d25e3318-7548-40d7-dd21-37fc97c3b969"
      },
      "execution_count": null,
      "outputs": [
        {
          "output_type": "stream",
          "name": "stdout",
          "text": [
            "the spow(4) is 256\n",
            "the spow(5,3) is 15625\n",
            "the spow(5,3,3) is 1953125\n"
          ]
        }
      ]
    },
    {
      "cell_type": "code",
      "source": [
        "i=5\n",
        "print(f\"the arg outside the ftn is {i}\")\n",
        "def f(arg=i):\n",
        "    print(f\"the arg is {arg}\")\n",
        "\n",
        "i=7\n",
        "f()\n",
        "f(6)\n",
        "f()\n",
        "print(f\"the arg outside the ftn is {i}\")"
      ],
      "metadata": {
        "colab": {
          "base_uri": "https://localhost:8080/"
        },
        "id": "gCXX61AcR7yH",
        "outputId": "7117bc7e-fe5c-462d-961d-ddd24c26878b"
      },
      "execution_count": null,
      "outputs": [
        {
          "output_type": "stream",
          "name": "stdout",
          "text": [
            "the arg outside the ftn is 5\n",
            "the arg is 5\n",
            "the arg is 6\n",
            "the arg is 5\n",
            "the arg outside the ftn is 7\n"
          ]
        }
      ]
    },
    {
      "cell_type": "code",
      "source": [
        "#ask the user what kind of pattern does it want then print the pattern\n",
        "print(\"square,\\nhollow sq,\\ntleft right tri,\\nright side tri,\\nupward tri,\\nlower triangle\")\n",
        "a=input(\"what kind of pattern is required \")\n",
        "if a==\"square\":\n",
        "    rows = int(input(\"Enter the number of rows: \"))\n",
        "    for i in range(1, rows + 1):\n",
        "        for j in range(1, rows + 1):\n",
        "            # Check condition if value of j is smaller or equal than\n",
        "            # the j then print i otherwise print j\n",
        "            if j <= i:\n",
        "                print(\"*\", end=' ')\n",
        "            else:\n",
        "                print('*', end=' ')\n",
        "        print()\n",
        "\n",
        "\n",
        "if a==\"hollow sq\":\n",
        "    rows = int(input(\"Enter the number of rows: \"))\n",
        "    for i in range(1, rows + 1):\n",
        "        for j in range(1, rows + 1):\n",
        "            # Check condition if value of j is smaller or equal than\n",
        "            # the j then print i otherwise print j\n",
        "            if (i==1 and i<=j) or (j==1 and i>=j) or (i==rows and i>=j) or (j==rows and i<=j):\n",
        "                print(\"*\", end=' ')\n",
        "            else:\n",
        "                print(' ', end=' ')\n",
        "        print()\n",
        "\n",
        "\n",
        "if a==\"left right tri\":\n",
        "    rows = int(input(\"Enter the number of rows: \"))\n",
        "    for i in range(1, rows + 1):\n",
        "        for j in range(1, rows + 1):\n",
        "            # Check condition if value of j is smaller or equal than\n",
        "            # the j then print i otherwise print j\n",
        "            if (i==j) or (j==1 and i>=j) or (i==rows and i>=j):\n",
        "                print(\"*\", end=' ')\n",
        "            else:\n",
        "                print(' ', end=' ')\n",
        "        print()\n",
        "\n",
        "\n",
        "if a==\"right side tri\":\n",
        "    rows = int(input(\"Enter the number of rows: \"))\n",
        "    for i in range(1, rows + 1):\n",
        "        for j in range(1, rows + 1):\n",
        "            # Check condition if value of j is smaller or equal than\n",
        "            # the j then print i otherwise print j\n",
        "            if (i==rows and i>=j) or (j==rows and i<=j) or (i+j==rows+1):\n",
        "                print(\"*\", end=' ')\n",
        "            else:\n",
        "                print(' ', end=' ')\n",
        "        print()\n",
        "\n",
        "\n",
        "if a==\"heart\":\n",
        "    rows = int(input(\"Enter the number of odd rows greater than 5: \"))\n",
        "    for i in range(1, rows + 1):\n",
        "        for j in range(1, rows + 1):\n",
        "            half = (rows/2)+0.5\n",
        "            if (i+j==rows and i>j) or (i+j==rows+half) or (i>j and i-j==half-1) or (i<j and j>=half) or ((i>=2 or i<=half) and (j==1 or j==9)):\n",
        "                print(\"*\", end=' ')\n",
        "            else:\n",
        "                print(' ', end=' ')\n",
        "        print()\n"
      ],
      "metadata": {
        "colab": {
          "base_uri": "https://localhost:8080/"
        },
        "id": "1MRMACj6RQBY",
        "outputId": "3e5402f4-bf86-4c23-ed3d-f1dbdf260f05"
      },
      "execution_count": null,
      "outputs": [
        {
          "output_type": "stream",
          "name": "stdout",
          "text": [
            "square,\n",
            "hollow sq,\n",
            "tleft right tri,\n",
            "right side tri,\n",
            "upward tri,\n",
            "lower triangle\n",
            "what kind of pattern is required heart\n",
            "Enter the number of odd rows greater than 5: 9\n",
            "*       * * * * * \n",
            "*       * * * * * \n",
            "*       * * * * * \n",
            "*       * * * * * \n",
            "*     *   * * * * \n",
            "* * *       * * * \n",
            "* * *       * * * \n",
            "*     *   *     * \n",
            "*       *       * \n"
          ]
        }
      ]
    },
    {
      "cell_type": "code",
      "source": [
        "#wap to show use of default arguements by  writing a funcion to find factorial of a number\n",
        "def fact(b=5):\n",
        "    mul=1\n",
        "    for i in range(1,b):\n",
        "        mul*=i\n",
        "        print(mul,i)\n",
        "    return mul\n",
        "fact(8)\n"
      ],
      "metadata": {
        "colab": {
          "base_uri": "https://localhost:8080/"
        },
        "id": "DCfic41-Sgg1",
        "outputId": "8c7ef1aa-afcf-413a-fc08-0357419ede63"
      },
      "execution_count": null,
      "outputs": [
        {
          "output_type": "stream",
          "name": "stdout",
          "text": [
            "1 1\n",
            "2 2\n",
            "6 3\n",
            "24 4\n",
            "120 5\n",
            "720 6\n",
            "5040 7\n"
          ]
        },
        {
          "output_type": "execute_result",
          "data": {
            "text/plain": [
              "5040"
            ]
          },
          "metadata": {},
          "execution_count": 42
        }
      ]
    },
    {
      "cell_type": "code",
      "source": [
        "number = 2.5\n",
        "rounded_number = round(number)\n",
        "print(rounded_number)"
      ],
      "metadata": {
        "id": "H2tr7vHPVqjy",
        "colab": {
          "base_uri": "https://localhost:8080/"
        },
        "outputId": "f66d2ee0-e844-4725-9a0b-154eb7d9c36d"
      },
      "execution_count": null,
      "outputs": [
        {
          "output_type": "stream",
          "name": "stdout",
          "text": [
            "3\n"
          ]
        }
      ]
    },
    {
      "cell_type": "code",
      "source": [
        "(reverse-i-search)'fact': def fact(b)"
      ],
      "metadata": {
        "id": "6fEAiQjF-fm5",
        "colab": {
          "base_uri": "https://localhost:8080/",
          "height": 131
        },
        "outputId": "c9179590-84e1-4b45-8d7b-f5192e268d8f"
      },
      "execution_count": null,
      "outputs": [
        {
          "output_type": "error",
          "ename": "SyntaxError",
          "evalue": "ignored",
          "traceback": [
            "\u001b[0;36m  File \u001b[0;32m\"<ipython-input-3-17c07b6eff12>\"\u001b[0;36m, line \u001b[0;32m1\u001b[0m\n\u001b[0;31m    (reverse-i-search)'fact': def fact(b)\u001b[0m\n\u001b[0m                      ^\u001b[0m\n\u001b[0;31mSyntaxError\u001b[0m\u001b[0;31m:\u001b[0m invalid syntax\n"
          ]
        }
      ]
    },
    {
      "cell_type": "code",
      "source": [],
      "metadata": {
        "id": "iSHVrse3E77F"
      },
      "execution_count": null,
      "outputs": []
    },
    {
      "cell_type": "code",
      "source": [],
      "metadata": {
        "id": "AM0dqVmCFLG8"
      },
      "execution_count": null,
      "outputs": []
    }
  ]
}